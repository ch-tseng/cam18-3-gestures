{
 "cells": [
  {
   "cell_type": "code",
   "execution_count": 736,
   "metadata": {},
   "outputs": [],
   "source": [
    "def warn(*args, **kwargs):\n",
    "    pass\n",
    "\n",
    "import warnings\n",
    "warnings.warn = warn\n",
    "\n",
    "sizeFixed = (18,18)\n",
    "channels = 1\n",
    "#dsImages = \"/export/home/digits/jupyter/chtseng/datasets/classed/18x18-cam-total/train\"\n",
    "dsImages = \"/home/digits/jupyter/chtseng/datasets/classed/ds-gesture-20180712/train\"\n",
    "#testPath = \"/export/home/digits/jupyter/chtseng/datasets/classed/18x18-cam-total/test\"\n",
    "testPath = \"/home/digits/jupyter/chtseng/datasets/classed/ds-gesture-20180712/test\"\n",
    "\n",
    "fraction = 0.2\n",
    "epoch = 100\n",
    "batchSize = 256\n",
    "\n",
    "randomSeed = 2018"
   ]
  },
  {
   "cell_type": "code",
   "execution_count": 737,
   "metadata": {},
   "outputs": [],
   "source": [
    "import os\n",
    "from keras.preprocessing.image import ImageDataGenerator\n",
    "from keras.models import Sequential\n",
    "from keras.layers import Activation, Dropout, Flatten, Dense, Conv2D, MaxPooling2D\n",
    "#from keras.callbacks import EarlyStopping, TensorBoard\n",
    "from sklearn.metrics import accuracy_score, f1_score\n",
    "from keras.layers.normalization import BatchNormalization\n",
    "#from datetime import datetime\n",
    "from keras.utils import np_utils\n",
    "#from keras.optimizers import SGD\n",
    "#from keras.models import Model\n",
    "#from keras.layers import Input\n",
    "#from keras.optimizers import Adam\n",
    "from keras.layers import Dropout\n",
    "#from IPython.display import display\n",
    "#from PIL import Image\n",
    "from keras.callbacks import ReduceLROnPlateau\n",
    "from sklearn.model_selection import train_test_split\n",
    "\n",
    "import cv2\n",
    "import numpy as np\n",
    "\n",
    "from skimage import io, transform\n",
    "import matplotlib.pyplot as plt\n",
    "%matplotlib inline\n",
    "\n",
    "from keras import optimizers\n",
    "import glob\n",
    "import random\n"
   ]
  },
  {
   "cell_type": "code",
   "execution_count": 738,
   "metadata": {},
   "outputs": [],
   "source": [
    "#Lable的對應, 每個Lable對應到一個數值\n",
    "\n",
    "#dict_labels = {\"nobody\": 0,\"body\": 1, \"chair\": 2, \"head\": 3}\n",
    "#dict_labels = { \"none\": 0,\"sitting\": 1, \"standing\": 2, \"walking\": 3 }\n",
    "dict_labels = { \"A\": 0,\"B\": 1, \"C\": 2 }"
   ]
  },
  {
   "cell_type": "code",
   "execution_count": 739,
   "metadata": {},
   "outputs": [],
   "source": [
    "def reshaped_image(image):\n",
    "    return transform.resize(image,(sizeFixed[0], sizeFixed[1], channels)) # (cols (width), rows (height)) and don't use np.resize()\n",
    "\n",
    "def load_images_from_folder(folder):    \n",
    "    labels = []\n",
    "    images = []\n",
    "    \n",
    "    for folders in glob.glob(folder+\"/*\"):\n",
    "        #print(\"Load {} ...\".format(folders))\n",
    "        label = os.path.basename(folders)\n",
    "\n",
    "        for filename in os.listdir(folders):  \n",
    "\n",
    "            if label is not None:\n",
    "                #print(dict_labels[label])\n",
    "                img = cv2.imread(os.path.join(folder,folders,filename))\n",
    "                if img is not None:            \n",
    "                    img = reshaped_image(img)\n",
    "                    labels.append(dict_labels[label])\n",
    "                    images.append(np.array(img))\n",
    "                    \n",
    "    return np.array(images), np.array(labels)\n",
    "\n",
    "def split_train_test(train_data, train_labels, fraction):\n",
    "    \n",
    "    #train_data = train_data.astype('float32') / 255.0\n",
    "    \n",
    "    np.random.seed(1024)\n",
    "    num = len(train_data)\n",
    "    \n",
    "    index = list(range(num))\n",
    "    \n",
    "    random.shuffle(index)\n",
    "    train_data = train_data[index]\n",
    "    train_labels = train_labels[index]\n",
    "    splitpoint = int(round(num * (1-fraction)))\n",
    "    (X_train, X_test) = (train_data[0:splitpoint], train_data[splitpoint:])\n",
    "    (y_train, y_test) = (train_labels[0:splitpoint], train_labels[splitpoint:])\n",
    "\n",
    "    \n",
    "    \n",
    "    #X_train, X_test, y_train, y_test = train_test_split(train_data, train_labels, test_size=fraction, random_state=42)\n",
    "    return X_train, y_train, X_test, y_test\n"
   ]
  },
  {
   "cell_type": "code",
   "execution_count": 740,
   "metadata": {},
   "outputs": [],
   "source": [
    "datagen = ImageDataGenerator(\n",
    "        featurewise_center=False,  # set input mean to 0 over the dataset\n",
    "        samplewise_center=False,  # set each sample mean to 0\n",
    "        featurewise_std_normalization=False,  # divide inputs by std of the dataset\n",
    "        samplewise_std_normalization=False,  # divide each input by its std\n",
    "        zca_whitening=False,  # apply ZCA whitening\n",
    "        rotation_range=170, # randomly rotate images in the range (degrees, 0 to 180)\n",
    "        zoom_range = 0.1, # Randomly zoom image \n",
    "        width_shift_range=0.1,  # randomly shift images horizontally (fraction of total width)\n",
    "        height_shift_range=0.1,  # randomly shift images vertically (fraction of total height)\n",
    "        horizontal_flip=True,  # randomly flip images\n",
    "        vertical_flip=True)  # randomly flip images"
   ]
  },
  {
   "cell_type": "code",
   "execution_count": 741,
   "metadata": {},
   "outputs": [],
   "source": [
    "def cnn_18x18Gesture(size):\n",
    "    from keras.regularizers import l2\n",
    "    shape = (size[0], size[1], size[2])\n",
    "    \n",
    "    model = Sequential()\n",
    "    model.add(Conv2D(32, kernel_size=(3, 3),\n",
    "                     activation='relu',\n",
    "                     input_shape=shape, W_regularizer=l2(0.01)))\n",
    "    model.add(Conv2D(64, (3, 3), activation='relu'))\n",
    "    model.add(BatchNormalization())\n",
    "    model.add(MaxPooling2D(pool_size=(2, 2)))\n",
    "    model.add(Dropout(0.5))\n",
    "    model.add(Flatten())\n",
    "    model.add(Dense(256, activation='relu'))\n",
    "    model.add(BatchNormalization())\n",
    "    model.add(Dropout(0.5))\n",
    "    model.add(Dense(len(dict_labels), activation = \"softmax\"))\n",
    "    \n",
    "    optimizer = optimizers.Adam(lr=0.001, beta_1=0.9, beta_2=0.999, epsilon=None, decay=0.0, amsgrad=False)\n",
    "    model.compile(optimizer = optimizer , loss = \"binary_crossentropy\", metrics=[\"accuracy\"])\n",
    "\n",
    "    #sgd = optimizers.SGD(lr=0.001, decay=1e-6, momentum=0.9, nesterov=True)\n",
    "    #model.compile( loss = \"binary_crossentropy\",  optimizer = sgd,  metrics=['accuracy'] ) \n",
    "    \n",
    "    #------------------------------------------------------------------------------\n",
    "    \n",
    "    #optimizer = optimizers.RMSprop(lr=0.001, rho=0.9, epsilon=1e-08, decay=0.0)    \n",
    "    #model.compile(optimizer = optimizer , loss = \"categorical_crossentropy\", metrics=[\"accuracy\"])    \n",
    "\n",
    "    #model.compile(loss=\"categorical_crossentropy\", optimizer=optimizers.Adadelta(), metrics=['accuracy'])\n",
    "    #optimizer = optimizers.RMSprop(lr=0.001, rho=0.9, epsilon=1e-08, decay=0.0)   \n",
    "    #model.compile(optimizer = optimizer , loss = \"categorical_crossentropy\", metrics=[\"accuracy\"])\n",
    "    \n",
    "    #optimizer = optimizers.RMSprop(lr=0.001, rho=0.9, epsilon=1e-08, decay=0.0)    \n",
    "    #model.compile(optimizer = optimizer , loss = \"cosine_proximity\", metrics=[\"accuracy\"])\n",
    "    \n",
    "    #optimizer = optimizers.Nadam()    \n",
    "    #model.compile(optimizer = optimizer , loss = \"categorical_crossentropy\", metrics=[\"accuracy\"])\n",
    "    \n",
    "    #optimizer = optimizers.Adagrad(lr=0.001, epsilon=None, decay=0.001)\n",
    "    #model.compile(optimizer = optimizer , loss = \"categorical_crossentropy\", metrics=[\"accuracy\"])\n",
    "    \n",
    "    #sgd = optimizers.SGD(lr=0.001, decay=1e-6, momentum=0.9, nesterov=True)\n",
    "    #model.compile(loss='categorical_crossentropy', optimizer=sgd, metrics=[\"accuracy\"])\n",
    "    \n",
    "\n",
    "    \n",
    "             \n",
    "    model.summary()\n",
    "    return model"
   ]
  },
  {
   "cell_type": "code",
   "execution_count": 742,
   "metadata": {},
   "outputs": [
    {
     "name": "stdout",
     "output_type": "stream",
     "text": [
      "--> (2116, 18, 18, 1)\n",
      "--> (529, 18, 18, 1)\n"
     ]
    }
   ],
   "source": [
    "train_data, train_labels = load_images_from_folder(dsImages)\n",
    "\n",
    "train_data, train_labels, test_data, test_labels = split_train_test(train_data, train_labels, fraction)\n",
    "datagen.fit(train_data)\n",
    "#datagen.fit(test_data)\n",
    "\n",
    "print(\"--> {}\".format( train_data.shape))\n",
    "print(\"--> {}\".format( test_data.shape))"
   ]
  },
  {
   "cell_type": "code",
   "execution_count": 743,
   "metadata": {},
   "outputs": [
    {
     "name": "stdout",
     "output_type": "stream",
     "text": [
      "Train data size:  2116\n",
      "Test data size:  529\n"
     ]
    }
   ],
   "source": [
    "train_labels = np_utils.to_categorical(train_labels, len(dict_labels))\n",
    "test_labels = np_utils.to_categorical(test_labels, len(dict_labels))\n",
    "\n",
    "#train_data = train_data.astype('float32') / 255.0\n",
    "#test_data = test_data.astype('float32') / 255.0\n",
    "print (\"Train data size: \", len(train_data))\n",
    "print (\"Test data size: \", len(test_data))"
   ]
  },
  {
   "cell_type": "code",
   "execution_count": 744,
   "metadata": {
    "scrolled": true
   },
   "outputs": [
    {
     "name": "stdout",
     "output_type": "stream",
     "text": [
      "_________________________________________________________________\n",
      "Layer (type)                 Output Shape              Param #   \n",
      "=================================================================\n",
      "conv2d_131 (Conv2D)          (None, 16, 16, 32)        320       \n",
      "_________________________________________________________________\n",
      "conv2d_132 (Conv2D)          (None, 14, 14, 64)        18496     \n",
      "_________________________________________________________________\n",
      "batch_normalization_99 (Batc (None, 14, 14, 64)        256       \n",
      "_________________________________________________________________\n",
      "max_pooling2d_66 (MaxPooling (None, 7, 7, 64)          0         \n",
      "_________________________________________________________________\n",
      "dropout_127 (Dropout)        (None, 7, 7, 64)          0         \n",
      "_________________________________________________________________\n",
      "flatten_66 (Flatten)         (None, 3136)              0         \n",
      "_________________________________________________________________\n",
      "dense_123 (Dense)            (None, 256)               803072    \n",
      "_________________________________________________________________\n",
      "batch_normalization_100 (Bat (None, 256)               1024      \n",
      "_________________________________________________________________\n",
      "dropout_128 (Dropout)        (None, 256)               0         \n",
      "_________________________________________________________________\n",
      "dense_124 (Dense)            (None, 3)                 771       \n",
      "=================================================================\n",
      "Total params: 823,939\n",
      "Trainable params: 823,299\n",
      "Non-trainable params: 640\n",
      "_________________________________________________________________\n",
      "Train data shape:  (2116, 18, 18, 1)\n",
      "Test data shape:  (529, 18, 18, 1)\n",
      "Epoch 1/100\n",
      "7/7 [==============================] - 4s 535ms/step - loss: 0.8655 - acc: 0.6668 - val_loss: 0.7520 - val_acc: 0.7013\n",
      "Epoch 2/100\n",
      "7/7 [==============================] - 0s 30ms/step - loss: 0.6119 - acc: 0.7557 - val_loss: 0.8896 - val_acc: 0.6887\n",
      "Epoch 3/100\n",
      "7/7 [==============================] - 0s 52ms/step - loss: 0.5387 - acc: 0.8026 - val_loss: 0.3748 - val_acc: 0.8544\n",
      "Epoch 4/100\n",
      "7/7 [==============================] - 0s 33ms/step - loss: 0.4470 - acc: 0.8279 - val_loss: 0.3572 - val_acc: 0.8721\n",
      "Epoch 5/100\n",
      "7/7 [==============================] - 0s 41ms/step - loss: 0.3890 - acc: 0.8534 - val_loss: 0.4159 - val_acc: 0.8639\n",
      "Epoch 6/100\n",
      "7/7 [==============================] - 0s 47ms/step - loss: 0.3497 - acc: 0.8547 - val_loss: 0.3518 - val_acc: 0.8853\n",
      "Epoch 7/100\n",
      "7/7 [==============================] - 0s 40ms/step - loss: 0.3167 - acc: 0.8789 - val_loss: 0.3894 - val_acc: 0.8620\n",
      "Epoch 8/100\n",
      "7/7 [==============================] - 0s 37ms/step - loss: 0.2983 - acc: 0.8953 - val_loss: 0.4963 - val_acc: 0.8349\n",
      "Epoch 9/100\n",
      "7/7 [==============================] - 0s 37ms/step - loss: 0.2858 - acc: 0.8920 - val_loss: 0.4418 - val_acc: 0.8538\n",
      "Epoch 10/100\n",
      "7/7 [==============================] - 0s 47ms/step - loss: 0.2670 - acc: 0.9019 - val_loss: 0.2244 - val_acc: 0.9175\n",
      "Epoch 11/100\n",
      "7/7 [==============================] - 0s 38ms/step - loss: 0.2505 - acc: 0.9110 - val_loss: 0.2763 - val_acc: 0.9093\n",
      "Epoch 12/100\n",
      "7/7 [==============================] - 0s 39ms/step - loss: 0.2005 - acc: 0.9254 - val_loss: 0.3532 - val_acc: 0.8784\n",
      "Epoch 13/100\n",
      "7/7 [==============================] - 0s 47ms/step - loss: 0.1990 - acc: 0.9268 - val_loss: 0.2784 - val_acc: 0.9086\n",
      "Epoch 14/100\n",
      "5/7 [====================>.........] - ETA: 0s - loss: 0.1905 - acc: 0.9262\n",
      "Epoch 00014: ReduceLROnPlateau reducing learning rate to 0.0005000000237487257.\n",
      "7/7 [==============================] - 2s 219ms/step - loss: 0.1976 - acc: 0.9262 - val_loss: 0.3213 - val_acc: 0.8853\n",
      "Epoch 15/100\n",
      "7/7 [==============================] - 0s 26ms/step - loss: 0.2108 - acc: 0.9303 - val_loss: 0.2850 - val_acc: 0.9086\n",
      "Epoch 16/100\n",
      "7/7 [==============================] - 0s 40ms/step - loss: 0.1889 - acc: 0.9321 - val_loss: 0.1465 - val_acc: 0.9490\n",
      "Epoch 17/100\n",
      "7/7 [==============================] - 0s 48ms/step - loss: 0.1718 - acc: 0.9392 - val_loss: 0.1425 - val_acc: 0.9521\n",
      "Epoch 18/100\n",
      "7/7 [==============================] - 0s 37ms/step - loss: 0.1859 - acc: 0.9366 - val_loss: 0.1453 - val_acc: 0.9509\n",
      "Epoch 19/100\n",
      "7/7 [==============================] - 0s 51ms/step - loss: 0.1766 - acc: 0.9403 - val_loss: 0.1456 - val_acc: 0.9502\n",
      "Epoch 20/100\n",
      "7/7 [==============================] - 0s 38ms/step - loss: 0.1732 - acc: 0.9365 - val_loss: 0.1343 - val_acc: 0.9572\n",
      "Epoch 21/100\n",
      "7/7 [==============================] - 0s 33ms/step - loss: 0.1540 - acc: 0.9514 - val_loss: 0.1599 - val_acc: 0.9477\n",
      "Epoch 22/100\n",
      "7/7 [==============================] - 0s 51ms/step - loss: 0.1480 - acc: 0.9451 - val_loss: 0.1553 - val_acc: 0.9471\n",
      "Epoch 23/100\n",
      "7/7 [==============================] - 0s 40ms/step - loss: 0.1486 - acc: 0.9500 - val_loss: 0.1789 - val_acc: 0.9382\n",
      "Epoch 24/100\n",
      "7/7 [==============================] - 0s 49ms/step - loss: 0.1345 - acc: 0.9564 - val_loss: 0.1167 - val_acc: 0.9653\n",
      "Epoch 25/100\n",
      "7/7 [==============================] - 0s 35ms/step - loss: 0.1587 - acc: 0.9496 - val_loss: 0.0946 - val_acc: 0.9666\n",
      "Epoch 26/100\n",
      "7/7 [==============================] - 0s 53ms/step - loss: 0.1310 - acc: 0.9567 - val_loss: 0.1251 - val_acc: 0.9635\n",
      "Epoch 27/100\n",
      "7/7 [==============================] - 0s 37ms/step - loss: 0.1226 - acc: 0.9597 - val_loss: 0.0956 - val_acc: 0.9704\n",
      "Epoch 28/100\n",
      "7/7 [==============================] - 0s 48ms/step - loss: 0.1337 - acc: 0.9570 - val_loss: 0.1167 - val_acc: 0.9609\n",
      "Epoch 29/100\n",
      "7/7 [==============================] - 0s 38ms/step - loss: 0.1397 - acc: 0.9507 - val_loss: 0.1221 - val_acc: 0.9616\n",
      "Epoch 30/100\n",
      "7/7 [==============================] - 0s 35ms/step - loss: 0.1238 - acc: 0.9563 - val_loss: 0.0941 - val_acc: 0.9704\n",
      "Epoch 31/100\n",
      "7/7 [==============================] - 0s 52ms/step - loss: 0.1284 - acc: 0.9544 - val_loss: 0.0901 - val_acc: 0.9748\n",
      "Epoch 32/100\n",
      "7/7 [==============================] - 0s 37ms/step - loss: 0.1503 - acc: 0.9482 - val_loss: 0.0815 - val_acc: 0.9805\n",
      "Epoch 33/100\n",
      "7/7 [==============================] - 0s 39ms/step - loss: 0.1236 - acc: 0.9565 - val_loss: 0.0926 - val_acc: 0.9754\n",
      "Epoch 34/100\n",
      "7/7 [==============================] - 0s 33ms/step - loss: 0.1371 - acc: 0.9604 - val_loss: 0.1123 - val_acc: 0.9641\n",
      "Epoch 35/100\n",
      "7/7 [==============================] - 0s 50ms/step - loss: 0.1318 - acc: 0.9579 - val_loss: 0.0685 - val_acc: 0.9792\n",
      "Epoch 36/100\n",
      "7/7 [==============================] - 0s 41ms/step - loss: 0.1194 - acc: 0.9608 - val_loss: 0.0678 - val_acc: 0.9811\n",
      "Epoch 37/100\n",
      "7/7 [==============================] - 0s 48ms/step - loss: 0.1241 - acc: 0.9551 - val_loss: 0.1195 - val_acc: 0.9622\n",
      "Epoch 38/100\n",
      "7/7 [==============================] - 0s 36ms/step - loss: 0.1211 - acc: 0.9618 - val_loss: 0.1116 - val_acc: 0.9540\n",
      "Epoch 39/100\n",
      "7/7 [==============================] - 0s 39ms/step - loss: 0.1047 - acc: 0.9667 - val_loss: 0.1039 - val_acc: 0.9679\n",
      "Epoch 40/100\n",
      "6/7 [========================>.....] - ETA: 0s - loss: 0.1365 - acc: 0.9536\n",
      "Epoch 00040: ReduceLROnPlateau reducing learning rate to 0.0002500000118743628.\n",
      "7/7 [==============================] - 0s 49ms/step - loss: 0.1314 - acc: 0.9555 - val_loss: 0.0602 - val_acc: 0.9798\n",
      "Epoch 41/100\n",
      "7/7 [==============================] - 0s 37ms/step - loss: 0.1160 - acc: 0.9617 - val_loss: 0.0890 - val_acc: 0.9653\n",
      "Epoch 42/100\n",
      "7/7 [==============================] - 0s 39ms/step - loss: 0.1108 - acc: 0.9637 - val_loss: 0.0603 - val_acc: 0.9887\n",
      "Epoch 43/100\n",
      "7/7 [==============================] - 0s 33ms/step - loss: 0.1178 - acc: 0.9647 - val_loss: 0.0748 - val_acc: 0.9786\n",
      "Epoch 44/100\n",
      "7/7 [==============================] - 0s 52ms/step - loss: 0.1043 - acc: 0.9712 - val_loss: 0.0652 - val_acc: 0.9836\n",
      "Epoch 45/100\n",
      "7/7 [==============================] - 0s 38ms/step - loss: 0.0921 - acc: 0.9732 - val_loss: 0.0664 - val_acc: 0.9842\n",
      "Epoch 46/100\n",
      "6/7 [========================>.....] - ETA: 0s - loss: 0.0948 - acc: 0.9744\n",
      "Epoch 00046: ReduceLROnPlateau reducing learning rate to 0.0001250000059371814.\n",
      "7/7 [==============================] - 0s 49ms/step - loss: 0.0967 - acc: 0.9742 - val_loss: 0.0652 - val_acc: 0.9842\n"
     ]
    },
    {
     "name": "stdout",
     "output_type": "stream",
     "text": [
      "Epoch 47/100\n",
      "7/7 [==============================] - 0s 39ms/step - loss: 0.0914 - acc: 0.9702 - val_loss: 0.0601 - val_acc: 0.9849\n",
      "Epoch 48/100\n",
      "7/7 [==============================] - 0s 35ms/step - loss: 0.1118 - acc: 0.9702 - val_loss: 0.0817 - val_acc: 0.9723\n",
      "Epoch 49/100\n",
      "6/7 [========================>.....] - ETA: 0s - loss: 0.1061 - acc: 0.9687\n",
      "Epoch 00049: ReduceLROnPlateau reducing learning rate to 0.0001.\n",
      "7/7 [==============================] - 0s 51ms/step - loss: 0.1034 - acc: 0.9704 - val_loss: 0.0633 - val_acc: 0.9842\n",
      "Epoch 50/100\n",
      "7/7 [==============================] - 0s 38ms/step - loss: 0.0980 - acc: 0.9706 - val_loss: 0.0704 - val_acc: 0.9824\n",
      "Epoch 51/100\n",
      "7/7 [==============================] - 0s 35ms/step - loss: 0.0940 - acc: 0.9673 - val_loss: 0.0442 - val_acc: 0.9924\n",
      "Epoch 52/100\n",
      "7/7 [==============================] - 0s 38ms/step - loss: 0.1057 - acc: 0.9656 - val_loss: 0.0442 - val_acc: 0.9937\n",
      "Epoch 53/100\n",
      "7/7 [==============================] - 0s 49ms/step - loss: 0.0949 - acc: 0.9705 - val_loss: 0.0603 - val_acc: 0.9824\n",
      "Epoch 54/100\n",
      "7/7 [==============================] - 0s 37ms/step - loss: 0.1020 - acc: 0.9693 - val_loss: 0.0546 - val_acc: 0.9874\n",
      "Epoch 55/100\n",
      "7/7 [==============================] - 0s 38ms/step - loss: 0.0963 - acc: 0.9660 - val_loss: 0.0465 - val_acc: 0.9912\n",
      "Epoch 56/100\n",
      "7/7 [==============================] - 0s 34ms/step - loss: 0.1004 - acc: 0.9684 - val_loss: 0.0550 - val_acc: 0.9836\n",
      "Epoch 57/100\n",
      "7/7 [==============================] - 0s 52ms/step - loss: 0.1127 - acc: 0.9648 - val_loss: 0.0500 - val_acc: 0.9849\n",
      "Epoch 58/100\n",
      "7/7 [==============================] - 0s 50ms/step - loss: 0.1076 - acc: 0.9642 - val_loss: 0.0485 - val_acc: 0.9880\n",
      "Epoch 59/100\n",
      "7/7 [==============================] - 0s 36ms/step - loss: 0.0988 - acc: 0.9721 - val_loss: 0.0462 - val_acc: 0.9874\n",
      "Epoch 60/100\n",
      "7/7 [==============================] - 0s 40ms/step - loss: 0.0972 - acc: 0.9708 - val_loss: 0.0521 - val_acc: 0.9880\n",
      "Epoch 61/100\n",
      "7/7 [==============================] - 0s 35ms/step - loss: 0.0902 - acc: 0.9730 - val_loss: 0.0487 - val_acc: 0.9893\n",
      "Epoch 62/100\n",
      "7/7 [==============================] - 0s 47ms/step - loss: 0.0801 - acc: 0.9745 - val_loss: 0.0545 - val_acc: 0.9868\n",
      "Epoch 63/100\n",
      "7/7 [==============================] - 0s 41ms/step - loss: 0.0985 - acc: 0.9710 - val_loss: 0.0511 - val_acc: 0.9887\n",
      "Epoch 64/100\n",
      "7/7 [==============================] - 0s 36ms/step - loss: 0.0918 - acc: 0.9714 - val_loss: 0.0486 - val_acc: 0.9868\n",
      "Epoch 65/100\n",
      "7/7 [==============================] - 0s 35ms/step - loss: 0.0919 - acc: 0.9753 - val_loss: 0.0440 - val_acc: 0.9924\n",
      "Epoch 66/100\n",
      "7/7 [==============================] - 0s 52ms/step - loss: 0.0891 - acc: 0.9734 - val_loss: 0.0417 - val_acc: 0.9950\n",
      "Epoch 67/100\n",
      "7/7 [==============================] - 0s 49ms/step - loss: 0.1099 - acc: 0.9613 - val_loss: 0.0538 - val_acc: 0.9887\n",
      "Epoch 68/100\n",
      "7/7 [==============================] - 0s 38ms/step - loss: 0.0938 - acc: 0.9706 - val_loss: 0.0412 - val_acc: 0.9931\n",
      "Epoch 69/100\n",
      "7/7 [==============================] - 0s 39ms/step - loss: 0.0813 - acc: 0.9741 - val_loss: 0.0496 - val_acc: 0.9937\n",
      "Epoch 70/100\n",
      "7/7 [==============================] - 0s 35ms/step - loss: 0.1023 - acc: 0.9624 - val_loss: 0.0541 - val_acc: 0.9855\n",
      "Epoch 71/100\n",
      "7/7 [==============================] - 0s 50ms/step - loss: 0.0963 - acc: 0.9717 - val_loss: 0.0439 - val_acc: 0.9943\n",
      "Epoch 72/100\n",
      "7/7 [==============================] - 0s 38ms/step - loss: 0.0844 - acc: 0.9731 - val_loss: 0.0520 - val_acc: 0.9887\n",
      "Epoch 73/100\n",
      "7/7 [==============================] - 0s 47ms/step - loss: 0.0986 - acc: 0.9683 - val_loss: 0.0537 - val_acc: 0.9861\n",
      "Epoch 74/100\n",
      "7/7 [==============================] - 0s 37ms/step - loss: 0.0965 - acc: 0.9718 - val_loss: 0.0511 - val_acc: 0.9861\n",
      "Epoch 75/100\n",
      "7/7 [==============================] - 0s 50ms/step - loss: 0.0931 - acc: 0.9695 - val_loss: 0.0376 - val_acc: 0.9918\n",
      "Epoch 76/100\n",
      "7/7 [==============================] - 0s 52ms/step - loss: 0.0926 - acc: 0.9712 - val_loss: 0.0395 - val_acc: 0.9962\n",
      "Epoch 77/100\n",
      "7/7 [==============================] - 0s 40ms/step - loss: 0.0941 - acc: 0.9706 - val_loss: 0.0551 - val_acc: 0.9817\n",
      "Epoch 78/100\n",
      "7/7 [==============================] - 0s 36ms/step - loss: 0.0872 - acc: 0.9752 - val_loss: 0.0502 - val_acc: 0.9905\n",
      "Epoch 79/100\n",
      "7/7 [==============================] - 0s 32ms/step - loss: 0.0841 - acc: 0.9790 - val_loss: 0.0519 - val_acc: 0.9912\n",
      "Epoch 80/100\n",
      "7/7 [==============================] - 0s 52ms/step - loss: 0.0930 - acc: 0.9712 - val_loss: 0.0511 - val_acc: 0.9874\n",
      "Epoch 81/100\n",
      "7/7 [==============================] - 0s 37ms/step - loss: 0.0820 - acc: 0.9731 - val_loss: 0.0476 - val_acc: 0.9880\n",
      "Epoch 82/100\n",
      "7/7 [==============================] - 0s 39ms/step - loss: 0.0902 - acc: 0.9745 - val_loss: 0.0365 - val_acc: 0.9931\n",
      "Epoch 83/100\n",
      "7/7 [==============================] - 0s 37ms/step - loss: 0.0829 - acc: 0.9741 - val_loss: 0.0455 - val_acc: 0.9887\n",
      "Epoch 84/100\n",
      "7/7 [==============================] - 0s 35ms/step - loss: 0.0906 - acc: 0.9706 - val_loss: 0.0506 - val_acc: 0.9861\n",
      "Epoch 85/100\n",
      "7/7 [==============================] - 0s 50ms/step - loss: 0.0868 - acc: 0.9735 - val_loss: 0.0449 - val_acc: 0.9912\n",
      "Epoch 86/100\n",
      "7/7 [==============================] - 0s 37ms/step - loss: 0.0866 - acc: 0.9743 - val_loss: 0.0419 - val_acc: 0.9912\n",
      "Epoch 87/100\n",
      "7/7 [==============================] - 0s 37ms/step - loss: 0.1056 - acc: 0.9655 - val_loss: 0.0362 - val_acc: 0.9950\n",
      "Epoch 88/100\n",
      "7/7 [==============================] - 0s 37ms/step - loss: 0.0832 - acc: 0.9736 - val_loss: 0.0376 - val_acc: 0.9918\n",
      "Epoch 89/100\n",
      "7/7 [==============================] - 0s 50ms/step - loss: 0.0902 - acc: 0.9683 - val_loss: 0.0435 - val_acc: 0.9893\n",
      "Epoch 90/100\n",
      "7/7 [==============================] - 0s 38ms/step - loss: 0.0880 - acc: 0.9713 - val_loss: 0.0398 - val_acc: 0.9918\n",
      "Epoch 91/100\n",
      "7/7 [==============================] - 0s 36ms/step - loss: 0.0954 - acc: 0.9674 - val_loss: 0.0519 - val_acc: 0.9899\n",
      "Epoch 92/100\n",
      "7/7 [==============================] - 0s 35ms/step - loss: 0.0806 - acc: 0.9742 - val_loss: 0.0406 - val_acc: 0.9950\n",
      "Epoch 93/100\n",
      "7/7 [==============================] - 0s 52ms/step - loss: 0.0935 - acc: 0.9717 - val_loss: 0.0598 - val_acc: 0.9824\n",
      "Epoch 94/100\n",
      "7/7 [==============================] - 0s 47ms/step - loss: 0.0828 - acc: 0.9739 - val_loss: 0.0453 - val_acc: 0.9912\n",
      "Epoch 95/100\n",
      "7/7 [==============================] - 0s 41ms/step - loss: 0.0777 - acc: 0.9751 - val_loss: 0.0463 - val_acc: 0.9950\n",
      "Epoch 96/100\n",
      "7/7 [==============================] - 0s 39ms/step - loss: 0.0781 - acc: 0.9792 - val_loss: 0.0484 - val_acc: 0.9905\n",
      "Epoch 97/100\n",
      "7/7 [==============================] - 0s 34ms/step - loss: 0.0840 - acc: 0.9750 - val_loss: 0.0488 - val_acc: 0.9899\n",
      "Epoch 98/100\n",
      "7/7 [==============================] - 0s 50ms/step - loss: 0.0792 - acc: 0.9748 - val_loss: 0.0517 - val_acc: 0.9912\n",
      "Epoch 99/100\n",
      "7/7 [==============================] - 0s 38ms/step - loss: 0.0824 - acc: 0.9736 - val_loss: 0.0550 - val_acc: 0.9874\n",
      "Epoch 100/100\n",
      "7/7 [==============================] - 0s 36ms/step - loss: 0.0994 - acc: 0.9695 - val_loss: 0.0451 - val_acc: 0.9905\n"
     ]
    }
   ],
   "source": [
    "\n",
    "\n",
    "learning_rate_reduction = ReduceLROnPlateau(monitor='val_acc', \n",
    "                                            patience=3, \n",
    "                                            verbose=1, \n",
    "                                            factor=0.5, \n",
    "                                            min_lr=0.0001)\n",
    "\n",
    "cnn = mnist1(size=np.asarray([sizeFixed[0], sizeFixed[1], channels]))\n",
    "#cnn = cnnModel(size=np.asarray([sizeFixed[0], sizeFixed[1], channels]), n_layers=2)\n",
    "#cnn = SqueezeNet(len(dict_labels), input_shape=([sizeFixed[0], sizeFixed[1], 3]))\n",
    "\n",
    "#Resnet\n",
    "#cnn = ResnetBuilder.build_resnet_101((3, sizeFixed[0], sizeFixed[1]), len(dict_labels))\n",
    "#cnn.compile(loss='categorical_crossentropy',\n",
    "#              optimizer='adam',\n",
    "#              metrics=['accuracy'])\n",
    "#end Resnet\n",
    "\n",
    "#VGG16\n",
    "#cnn = VGG16([sizeFixed[0], sizeFixed[1]], len(dict_labels), trained=False)\n",
    "\n",
    "\n",
    "print (\"Train data shape: \", train_data.shape)\n",
    "print (\"Test data shape: \", test_data.shape)\n",
    "\n",
    "#h = cnn.fit_generator(datagen.flow(train_data,train_labels, batch_size=batchSize),\n",
    "#                              epochs = epoch, validation_data = (test_data,test_labels),\n",
    "#                              verbose = 1, steps_per_epoch=train_data.shape[0] // batchSize\n",
    "#                              , callbacks=[learning_rate_reduction],)\n",
    "\n",
    "h = cnn.fit_generator(datagen.flow(train_data,train_labels, batch_size=batchSize), samples_per_epoch=2000,\n",
    "                              epochs = epoch, validation_data = (datagen.flow(test_data,test_labels, batch_size=batchSize)),\n",
    "                              verbose = 1 , callbacks=[learning_rate_reduction],)"
   ]
  },
  {
   "cell_type": "code",
   "execution_count": 745,
   "metadata": {},
   "outputs": [
    {
     "name": "stdout",
     "output_type": "stream",
     "text": [
      "Final loss: 0.023168, final accuracy: 0.998740\n"
     ]
    }
   ],
   "source": [
    "final_loss, final_acc = cnn.evaluate(test_data, test_labels, verbose=0)\n",
    "\n",
    "print(\"Final loss: {0:.6f}, final accuracy: {1:.6f}\".format(final_loss, final_acc))"
   ]
  },
  {
   "cell_type": "code",
   "execution_count": 753,
   "metadata": {},
   "outputs": [
    {
     "name": "stdout",
     "output_type": "stream",
     "text": [
      "Actual test labels: [[ 0.  0.  1.]\n",
      " [ 0.  0.  1.]\n",
      " [ 0.  0.  1.]\n",
      " ..., \n",
      " [ 0.  1.  0.]\n",
      " [ 0.  1.  0.]\n",
      " [ 0.  1.  0.]]\n",
      "Predicted test labels: [[ 0.  0.  1.]\n",
      " [ 0.  0.  1.]\n",
      " [ 0.  0.  1.]\n",
      " ..., \n",
      " [ 0.  1.  0.]\n",
      " [ 0.  1.  0.]\n",
      " [ 0.  1.  0.]]\n",
      "Accuracy score: 0.992110453649\n"
     ]
    }
   ],
   "source": [
    "finaltest_data, finaltest_labels = load_images_from_folder(testPath)\n",
    "finaltest_labels = np_utils.to_categorical(finaltest_labels, len(dict_labels))\n",
    "\n",
    "#finaltest_data = finaltest_data.astype('float32') / 255.0\n",
    "predicted_test_labels = np.argmax(cnn.predict(finaltest_data), axis=1)\n",
    "predicted_test_labels = np_utils.to_categorical(predicted_test_labels, len(dict_labels))\n",
    "\n",
    "print (\"Actual test labels:\", finaltest_labels)\n",
    "print (\"Predicted test labels:\", predicted_test_labels)\n",
    "print (\"Accuracy score:\", accuracy_score(finaltest_labels, predicted_test_labels))"
   ]
  },
  {
   "cell_type": "code",
   "execution_count": 754,
   "metadata": {},
   "outputs": [
    {
     "name": "stdout",
     "output_type": "stream",
     "text": [
      "(529, 18, 18, 1)\n",
      "(529, 3)\n",
      "(507, 18, 18, 1)\n",
      "(507, 3)\n"
     ]
    }
   ],
   "source": [
    "X_val = finaltest_data\n",
    "Y_val = finaltest_labels\n",
    "\n",
    "print(test_data.shape)\n",
    "print(test_labels.shape)\n",
    "print(finaltest_data.shape)\n",
    "print(finaltest_labels.shape)"
   ]
  },
  {
   "cell_type": "code",
   "execution_count": 761,
   "metadata": {},
   "outputs": [
    {
     "name": "stdout",
     "output_type": "stream",
     "text": [
      "507/507 [==============================] - 0s 33us/step\n",
      "             precision    recall  f1-score   support\n",
      "\n",
      "          0       1.00      0.99      1.00       135\n",
      "          1       0.99      1.00      0.99       208\n",
      "          2       0.99      0.98      0.99       164\n",
      "\n",
      "avg / total       0.99      0.99      0.99       507\n",
      "\n"
     ]
    }
   ],
   "source": [
    "from sklearn.metrics import classification_report\n",
    "\n",
    "pred = cnn.predict(finaltest_data, batch_size=batchSize, verbose=1)\n",
    "predicted = np.argmax(pred, axis=1)\n",
    "report = classification_report(np.argmax(finaltest_labels, axis=1), predicted)\n",
    "print(report)"
   ]
  },
  {
   "cell_type": "code",
   "execution_count": 756,
   "metadata": {},
   "outputs": [
    {
     "data": {
      "image/png": "[encoded data removed]",
      "text/plain": [
       "<matplotlib.figure.Figure at 0x7fce20040438>"
      ]
     },
     "metadata": {},
     "output_type": "display_data"
    }
   ],
   "source": [
    "from sklearn.metrics import confusion_matrix\n",
    "import itertools\n",
    "\n",
    "# Look at confusion matrix \n",
    "#Note, this code is taken straight from the SKLEARN website, an nice way of viewing confusion matrix.\n",
    "def plot_confusion_matrix(cm, classes,\n",
    "                          normalize=False,\n",
    "                          title='Confusion matrix',\n",
    "                          cmap=plt.cm.Blues):\n",
    "    \"\"\"\n",
    "    This function prints and plots the confusion matrix.\n",
    "    Normalization can be applied by setting `normalize=True`.\n",
    "    \"\"\"\n",
    "    plt.imshow(cm, interpolation='nearest', cmap=cmap)\n",
    "    plt.title(title)\n",
    "    plt.colorbar()\n",
    "    tick_marks = np.arange(len(classes))\n",
    "    plt.xticks(tick_marks, classes, rotation=45)\n",
    "    plt.yticks(tick_marks, classes)\n",
    "\n",
    "    if normalize:\n",
    "        cm = cm.astype('float') / cm.sum(axis=1)[:, np.newaxis]\n",
    "\n",
    "    thresh = cm.max() / 2.\n",
    "    for i, j in itertools.product(range(cm.shape[0]), range(cm.shape[1])):\n",
    "        plt.text(j, i, cm[i, j],\n",
    "                 horizontalalignment=\"center\",\n",
    "                 color=\"white\" if cm[i, j] > thresh else \"black\")\n",
    "\n",
    "    plt.tight_layout()\n",
    "    plt.ylabel('True label')\n",
    "    plt.xlabel('Predicted label')\n",
    "\n",
    "# Predict the values from the validation dataset\n",
    "Y_pred = cnn.predict(X_val)\n",
    "# Convert predictions classes to one hot vectors \n",
    "Y_pred_classes = np.argmax(Y_pred, axis = 1) \n",
    "# Convert validation observations to one hot vectors\n",
    "Y_true = np.argmax(Y_val, axis = 1) \n",
    "# compute the confusion matrix\n",
    "confusion_mtx = confusion_matrix(Y_true, Y_pred_classes) \n",
    "# plot the confusion matrix\n",
    "plot_confusion_matrix(confusion_mtx, classes = range(len(dict_labels)))"
   ]
  },
  {
   "cell_type": "code",
   "execution_count": 757,
   "metadata": {},
   "outputs": [
    {
     "name": "stdout",
     "output_type": "stream",
     "text": [
      "Saved model to disk\n"
     ]
    }
   ],
   "source": [
    "# serialize model to JSON\n",
    "model_json = cnn.to_json()\n",
    "with open(\"18x18_epoch_100_adam_data_2000.json\", \"w\") as json_file:\n",
    "    json_file.write(model_json)\n",
    "# serialize weights to HDF5\n",
    "cnn.save_weights(\"18x18_epoch_100_adam_data_2000.h5\")\n",
    "print(\"Saved model to disk\")"
   ]
  },
  {
   "cell_type": "code",
   "execution_count": 758,
   "metadata": {},
   "outputs": [
    {
     "name": "stdout",
     "output_type": "stream",
     "text": [
      "dict_keys(['val_loss', 'val_acc', 'loss', 'acc', 'lr'])\n"
     ]
    },
    {
     "data": {
      "image/png": "[encoded data removed]",
      "text/plain": [
       "<matplotlib.figure.Figure at 0x7fce20006550>"
      ]
     },
     "metadata": {},
     "output_type": "display_data"
    },
    {
     "data": {
      "image/png": "[encoded data removed]",
      "text/plain": [
       "<matplotlib.figure.Figure at 0x7fce16945fd0>"
      ]
     },
     "metadata": {},
     "output_type": "display_data"
    }
   ],
   "source": [
    "print(h.history.keys())\n",
    "accuracy = h.history['acc']\n",
    "val_accuracy = h.history['val_acc']\n",
    "loss = h.history['loss']\n",
    "val_loss = h.history['val_loss']\n",
    "epochs = range(len(accuracy))\n",
    "plt.plot(epochs, accuracy, 'bo', label='Training accuracy')\n",
    "plt.plot(epochs, val_accuracy, 'b', label='Validation accuracy')\n",
    "plt.title('Training and validation accuracy')\n",
    "plt.legend()\n",
    "plt.show()\n",
    "plt.figure()\n",
    "plt.plot(epochs, loss, 'bo', label='Training loss')\n",
    "plt.plot(epochs, val_loss, 'b', label='Validation loss')\n",
    "plt.title('Training and validation loss')\n",
    "plt.legend()\n",
    "plt.show()"
   ]
  },
  {
   "cell_type": "code",
   "execution_count": 759,
   "metadata": {},
   "outputs": [
    {
     "ename": "IndexError",
     "evalue": "index 4 is out of bounds for axis 0 with size 4",
     "output_type": "error",
     "traceback": [
      "\u001b[0;31m---------------------------------------------------------------------------\u001b[0m",
      "\u001b[0;31mIndexError\u001b[0m                                Traceback (most recent call last)",
      "\u001b[0;32m<ipython-input-759-7167fd562445>\u001b[0m in \u001b[0;36m<module>\u001b[0;34m()\u001b[0m\n\u001b[1;32m     41\u001b[0m \u001b[0;34m\u001b[0m\u001b[0m\n\u001b[1;32m     42\u001b[0m \u001b[0;31m# Show the top 6 errors\u001b[0m\u001b[0;34m\u001b[0m\u001b[0;34m\u001b[0m\u001b[0m\n\u001b[0;32m---> 43\u001b[0;31m \u001b[0mdisplay_errors\u001b[0m\u001b[0;34m(\u001b[0m\u001b[0mmost_important_errors\u001b[0m\u001b[0;34m,\u001b[0m \u001b[0mX_val_errors\u001b[0m\u001b[0;34m,\u001b[0m \u001b[0mY_pred_classes_errors\u001b[0m\u001b[0;34m,\u001b[0m \u001b[0mY_true_errors\u001b[0m\u001b[0;34m)\u001b[0m\u001b[0;34m\u001b[0m\u001b[0m\n\u001b[0m",
      "\u001b[0;32m<ipython-input-759-7167fd562445>\u001b[0m in \u001b[0;36mdisplay_errors\u001b[0;34m(errors_index, img_errors, pred_errors, obs_errors)\u001b[0m\n\u001b[1;32m     20\u001b[0m     \u001b[0;32mfor\u001b[0m \u001b[0mrow\u001b[0m \u001b[0;32min\u001b[0m \u001b[0mrange\u001b[0m\u001b[0;34m(\u001b[0m\u001b[0mnrows\u001b[0m\u001b[0;34m)\u001b[0m\u001b[0;34m:\u001b[0m\u001b[0;34m\u001b[0m\u001b[0m\n\u001b[1;32m     21\u001b[0m         \u001b[0;32mfor\u001b[0m \u001b[0mcol\u001b[0m \u001b[0;32min\u001b[0m \u001b[0mrange\u001b[0m\u001b[0;34m(\u001b[0m\u001b[0mncols\u001b[0m\u001b[0;34m)\u001b[0m\u001b[0;34m:\u001b[0m\u001b[0;34m\u001b[0m\u001b[0m\n\u001b[0;32m---> 22\u001b[0;31m             \u001b[0merror\u001b[0m \u001b[0;34m=\u001b[0m \u001b[0merrors_index\u001b[0m\u001b[0;34m[\u001b[0m\u001b[0mn\u001b[0m\u001b[0;34m]\u001b[0m\u001b[0;34m\u001b[0m\u001b[0m\n\u001b[0m\u001b[1;32m     23\u001b[0m             \u001b[0max\u001b[0m\u001b[0;34m[\u001b[0m\u001b[0mrow\u001b[0m\u001b[0;34m,\u001b[0m\u001b[0mcol\u001b[0m\u001b[0;34m]\u001b[0m\u001b[0;34m.\u001b[0m\u001b[0mimshow\u001b[0m\u001b[0;34m(\u001b[0m\u001b[0;34m(\u001b[0m\u001b[0mimg_errors\u001b[0m\u001b[0;34m[\u001b[0m\u001b[0merror\u001b[0m\u001b[0;34m]\u001b[0m\u001b[0;34m)\u001b[0m\u001b[0;34m.\u001b[0m\u001b[0mreshape\u001b[0m\u001b[0;34m(\u001b[0m\u001b[0;34m(\u001b[0m\u001b[0;36m18\u001b[0m\u001b[0;34m,\u001b[0m\u001b[0;36m18\u001b[0m\u001b[0;34m)\u001b[0m\u001b[0;34m)\u001b[0m\u001b[0;34m)\u001b[0m\u001b[0;34m\u001b[0m\u001b[0m\n\u001b[1;32m     24\u001b[0m             \u001b[0max\u001b[0m\u001b[0;34m[\u001b[0m\u001b[0mrow\u001b[0m\u001b[0;34m,\u001b[0m\u001b[0mcol\u001b[0m\u001b[0;34m]\u001b[0m\u001b[0;34m.\u001b[0m\u001b[0mset_title\u001b[0m\u001b[0;34m(\u001b[0m\u001b[0;34m\"Predicted:{} True:{}\"\u001b[0m\u001b[0;34m.\u001b[0m\u001b[0mformat\u001b[0m\u001b[0;34m(\u001b[0m\u001b[0mpred_errors\u001b[0m\u001b[0;34m[\u001b[0m\u001b[0merror\u001b[0m\u001b[0;34m]\u001b[0m\u001b[0;34m,\u001b[0m\u001b[0mobs_errors\u001b[0m\u001b[0;34m[\u001b[0m\u001b[0merror\u001b[0m\u001b[0;34m]\u001b[0m\u001b[0;34m)\u001b[0m\u001b[0;34m)\u001b[0m\u001b[0;34m\u001b[0m\u001b[0m\n",
      "\u001b[0;31mIndexError\u001b[0m: index 4 is out of bounds for axis 0 with size 4"
     ]
    },
    {
     "data": {
      "image/png": "[encoded data removed]",
      "text/plain": [
       "<matplotlib.figure.Figure at 0x7fce16914470>"
      ]
     },
     "metadata": {},
     "output_type": "display_data"
    }
   ],
   "source": [
    "# Errors are difference between predicted labels and true labels\n",
    "errors = (Y_pred_classes - Y_true != 0)\n",
    "\n",
    "Y_pred_classes_errors = Y_pred_classes[errors]\n",
    "Y_pred_errors = Y_pred[errors]\n",
    "Y_true_errors = Y_true[errors]\n",
    "X_val_errors = X_val[errors]\n",
    "\n",
    "plt.rcParams[\"figure.figsize\"] = [8,16]\n",
    "\n",
    "def display_errors(errors_index,img_errors,pred_errors, obs_errors):\n",
    "    \"\"\" This function shows 6 images with their predicted and real labels\"\"\"\n",
    "    n = 0\n",
    "    nrows = 6\n",
    "    ncols = 2\n",
    "    fig, ax = plt.subplots(nrows,ncols,sharex=True,sharey=True)\n",
    "    \n",
    "    \n",
    "\n",
    "    for row in range(nrows):\n",
    "        for col in range(ncols):\n",
    "            error = errors_index[n]\n",
    "            ax[row,col].imshow((img_errors[error]).reshape((18,18)))\n",
    "            ax[row,col].set_title(\"Predicted:{} True:{}\".format(pred_errors[error],obs_errors[error]))\n",
    "            n += 1\n",
    "\n",
    "# Probabilities of the wrong predicted numbers\n",
    "Y_pred_errors_prob = np.max(Y_pred_errors,axis = 1)\n",
    "\n",
    "# Predicted probabilities of the true values in the error set\n",
    "true_prob_errors = np.diagonal(np.take(Y_pred_errors, Y_true_errors, axis=1))\n",
    "\n",
    "# Difference between the probability of the predicted label and the true label\n",
    "delta_pred_true_errors = Y_pred_errors_prob - true_prob_errors\n",
    "\n",
    "# Sorted list of the delta prob errors\n",
    "sorted_dela_errors = np.argsort(delta_pred_true_errors)\n",
    "\n",
    "# Top 6 errors \n",
    "most_important_errors = sorted_dela_errors[-12:]\n",
    "\n",
    "# Show the top 6 errors\n",
    "display_errors(most_important_errors, X_val_errors, Y_pred_classes_errors, Y_true_errors)"
   ]
  },
  {
   "cell_type": "code",
   "execution_count": 760,
   "metadata": {},
   "outputs": [
    {
     "ename": "TypeError",
     "evalue": "Image data cannot be converted to float",
     "output_type": "error",
     "traceback": [
      "\u001b[0;31m---------------------------------------------------------------------------\u001b[0m",
      "\u001b[0;31mTypeError\u001b[0m                                 Traceback (most recent call last)",
      "\u001b[0;32m<ipython-input-760-3834eee9a2e9>\u001b[0m in \u001b[0;36m<module>\u001b[0;34m()\u001b[0m\n\u001b[1;32m      3\u001b[0m \u001b[0;31m#img = cv2.imread(\"/home/chtseng/train-opencvCascade/heads/neg-images/aug_0_3202.jpg\")\u001b[0m\u001b[0;34m\u001b[0m\u001b[0;34m\u001b[0m\u001b[0m\n\u001b[1;32m      4\u001b[0m \u001b[0;31m#img = cv2.imread(\"/home/chtseng/train-opencvCascade/heads/neg-images/aug_0_2107.jpg\")\u001b[0m\u001b[0;34m\u001b[0m\u001b[0;34m\u001b[0m\u001b[0m\n\u001b[0;32m----> 5\u001b[0;31m \u001b[0mplt\u001b[0m\u001b[0;34m.\u001b[0m\u001b[0mimshow\u001b[0m\u001b[0;34m(\u001b[0m\u001b[0mimg\u001b[0m\u001b[0;34m)\u001b[0m\u001b[0;34m\u001b[0m\u001b[0m\n\u001b[0m\u001b[1;32m      6\u001b[0m \u001b[0mtest_image\u001b[0m\u001b[0;34m.\u001b[0m\u001b[0mappend\u001b[0m\u001b[0;34m(\u001b[0m\u001b[0mreshaped_image\u001b[0m\u001b[0;34m(\u001b[0m\u001b[0mimg\u001b[0m\u001b[0;34m)\u001b[0m\u001b[0;34m)\u001b[0m\u001b[0;34m\u001b[0m\u001b[0m\n\u001b[1;32m      7\u001b[0m \u001b[0mtest_image\u001b[0m \u001b[0;34m=\u001b[0m \u001b[0mnp\u001b[0m\u001b[0;34m.\u001b[0m\u001b[0marray\u001b[0m\u001b[0;34m(\u001b[0m\u001b[0mtest_image\u001b[0m\u001b[0;34m)\u001b[0m\u001b[0;34m\u001b[0m\u001b[0m\n",
      "\u001b[0;32m/usr/local/lib/python3.5/dist-packages/matplotlib/pyplot.py\u001b[0m in \u001b[0;36mimshow\u001b[0;34m(X, cmap, norm, aspect, interpolation, alpha, vmin, vmax, origin, extent, shape, filternorm, filterrad, imlim, resample, url, hold, data, **kwargs)\u001b[0m\n\u001b[1;32m   3099\u001b[0m                         \u001b[0mfilternorm\u001b[0m\u001b[0;34m=\u001b[0m\u001b[0mfilternorm\u001b[0m\u001b[0;34m,\u001b[0m \u001b[0mfilterrad\u001b[0m\u001b[0;34m=\u001b[0m\u001b[0mfilterrad\u001b[0m\u001b[0;34m,\u001b[0m\u001b[0;34m\u001b[0m\u001b[0m\n\u001b[1;32m   3100\u001b[0m                         \u001b[0mimlim\u001b[0m\u001b[0;34m=\u001b[0m\u001b[0mimlim\u001b[0m\u001b[0;34m,\u001b[0m \u001b[0mresample\u001b[0m\u001b[0;34m=\u001b[0m\u001b[0mresample\u001b[0m\u001b[0;34m,\u001b[0m \u001b[0murl\u001b[0m\u001b[0;34m=\u001b[0m\u001b[0murl\u001b[0m\u001b[0;34m,\u001b[0m \u001b[0mdata\u001b[0m\u001b[0;34m=\u001b[0m\u001b[0mdata\u001b[0m\u001b[0;34m,\u001b[0m\u001b[0;34m\u001b[0m\u001b[0m\n\u001b[0;32m-> 3101\u001b[0;31m                         **kwargs)\n\u001b[0m\u001b[1;32m   3102\u001b[0m     \u001b[0;32mfinally\u001b[0m\u001b[0;34m:\u001b[0m\u001b[0;34m\u001b[0m\u001b[0m\n\u001b[1;32m   3103\u001b[0m         \u001b[0max\u001b[0m\u001b[0;34m.\u001b[0m\u001b[0m_hold\u001b[0m \u001b[0;34m=\u001b[0m \u001b[0mwashold\u001b[0m\u001b[0;34m\u001b[0m\u001b[0m\n",
      "\u001b[0;32m/usr/local/lib/python3.5/dist-packages/matplotlib/__init__.py\u001b[0m in \u001b[0;36minner\u001b[0;34m(ax, *args, **kwargs)\u001b[0m\n\u001b[1;32m   1715\u001b[0m                     warnings.warn(msg % (label_namer, func.__name__),\n\u001b[1;32m   1716\u001b[0m                                   RuntimeWarning, stacklevel=2)\n\u001b[0;32m-> 1717\u001b[0;31m             \u001b[0;32mreturn\u001b[0m \u001b[0mfunc\u001b[0m\u001b[0;34m(\u001b[0m\u001b[0max\u001b[0m\u001b[0;34m,\u001b[0m \u001b[0;34m*\u001b[0m\u001b[0margs\u001b[0m\u001b[0;34m,\u001b[0m \u001b[0;34m**\u001b[0m\u001b[0mkwargs\u001b[0m\u001b[0;34m)\u001b[0m\u001b[0;34m\u001b[0m\u001b[0m\n\u001b[0m\u001b[1;32m   1718\u001b[0m         \u001b[0mpre_doc\u001b[0m \u001b[0;34m=\u001b[0m \u001b[0minner\u001b[0m\u001b[0;34m.\u001b[0m\u001b[0m__doc__\u001b[0m\u001b[0;34m\u001b[0m\u001b[0m\n\u001b[1;32m   1719\u001b[0m         \u001b[0;32mif\u001b[0m \u001b[0mpre_doc\u001b[0m \u001b[0;32mis\u001b[0m \u001b[0;32mNone\u001b[0m\u001b[0;34m:\u001b[0m\u001b[0;34m\u001b[0m\u001b[0m\n",
      "\u001b[0;32m/usr/local/lib/python3.5/dist-packages/matplotlib/axes/_axes.py\u001b[0m in \u001b[0;36mimshow\u001b[0;34m(self, X, cmap, norm, aspect, interpolation, alpha, vmin, vmax, origin, extent, shape, filternorm, filterrad, imlim, resample, url, **kwargs)\u001b[0m\n\u001b[1;32m   5129\u001b[0m                               resample=resample, **kwargs)\n\u001b[1;32m   5130\u001b[0m \u001b[0;34m\u001b[0m\u001b[0m\n\u001b[0;32m-> 5131\u001b[0;31m         \u001b[0mim\u001b[0m\u001b[0;34m.\u001b[0m\u001b[0mset_data\u001b[0m\u001b[0;34m(\u001b[0m\u001b[0mX\u001b[0m\u001b[0;34m)\u001b[0m\u001b[0;34m\u001b[0m\u001b[0m\n\u001b[0m\u001b[1;32m   5132\u001b[0m         \u001b[0mim\u001b[0m\u001b[0;34m.\u001b[0m\u001b[0mset_alpha\u001b[0m\u001b[0;34m(\u001b[0m\u001b[0malpha\u001b[0m\u001b[0;34m)\u001b[0m\u001b[0;34m\u001b[0m\u001b[0m\n\u001b[1;32m   5133\u001b[0m         \u001b[0;32mif\u001b[0m \u001b[0mim\u001b[0m\u001b[0;34m.\u001b[0m\u001b[0mget_clip_path\u001b[0m\u001b[0;34m(\u001b[0m\u001b[0;34m)\u001b[0m \u001b[0;32mis\u001b[0m \u001b[0;32mNone\u001b[0m\u001b[0;34m:\u001b[0m\u001b[0;34m\u001b[0m\u001b[0m\n",
      "\u001b[0;32m/usr/local/lib/python3.5/dist-packages/matplotlib/image.py\u001b[0m in \u001b[0;36mset_data\u001b[0;34m(self, A)\u001b[0m\n\u001b[1;32m    616\u001b[0m         if (self._A.dtype != np.uint8 and\n\u001b[1;32m    617\u001b[0m                 not np.can_cast(self._A.dtype, float, \"same_kind\")):\n\u001b[0;32m--> 618\u001b[0;31m             \u001b[0;32mraise\u001b[0m \u001b[0mTypeError\u001b[0m\u001b[0;34m(\u001b[0m\u001b[0;34m\"Image data cannot be converted to float\"\u001b[0m\u001b[0;34m)\u001b[0m\u001b[0;34m\u001b[0m\u001b[0m\n\u001b[0m\u001b[1;32m    619\u001b[0m \u001b[0;34m\u001b[0m\u001b[0m\n\u001b[1;32m    620\u001b[0m         if not (self._A.ndim == 2\n",
      "\u001b[0;31mTypeError\u001b[0m: Image data cannot be converted to float"
     ]
    },
    {
     "data": {
      "image/png": "[encoded data removed]",
      "text/plain": [
       "<matplotlib.figure.Figure at 0x7fce02448128>"
      ]
     },
     "metadata": {},
     "output_type": "display_data"
    }
   ],
   "source": [
    "test_image = []\n",
    "img = cv2.imread(\"/home/chtseng/works/train-opencvCascade/datasets/classed/18x18-3-gestures-step2/test/A/AUA055_0705_0432.bmp\")\n",
    "#img = cv2.imread(\"/home/chtseng/train-opencvCascade/heads/neg-images/aug_0_3202.jpg\")\n",
    "#img = cv2.imread(\"/home/chtseng/train-opencvCascade/heads/neg-images/aug_0_2107.jpg\")\n",
    "plt.imshow(img)\n",
    "test_image.append(reshaped_image(img))\n",
    "test_image = np.array(test_image)\n",
    "print(test_image.shape)\n",
    "\n",
    "test_image = test_image.astype('float32') / 255.0\n",
    "#result = loaded_model.predict(test_image)\n",
    "img_class = cnn.predict(test_image)\n",
    "#prediction = img_class[0]\n",
    "print(img_class)"
   ]
  },
  {
   "cell_type": "code",
   "execution_count": null,
   "metadata": {},
   "outputs": [],
   "source": []
  }
 ],
 "metadata": {
  "kernelspec": {
   "display_name": "Python 3",
   "language": "python",
   "name": "python3"
  },
  "language_info": {
   "codemirror_mode": {
    "name": "ipython",
    "version": 3
   },
   "file_extension": ".py",
   "mimetype": "text/x-python",
   "name": "python",
   "nbconvert_exporter": "python",
   "pygments_lexer": "ipython3",
   "version": "3.5.2"
  }
 },
 "nbformat": 4,
 "nbformat_minor": 2
}
